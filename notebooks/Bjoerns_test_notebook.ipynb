{
 "cells": [
  {
   "cell_type": "markdown",
   "metadata": {},
   "source": [
    "# Bjoerns Test-Notebook!"
   ]
  },
  {
   "cell_type": "code",
   "execution_count": 3,
   "metadata": {},
   "outputs": [],
   "source": [
    "# from __future__ import print_function\n",
    "# from __future__ import division\n",
    "\n",
    "import pandas as pd\n",
    "import numpy as np\n",
    "\n",
    "# from matplotlib import pyplot as plt\n",
    "# import seaborn as sns\n",
    "\n",
    "# from sklearn.model_selection import train_test_split\n",
    "# import statsmodels.api as sm\n",
    "\n",
    "# # TODO: Import my own functions/node?\n",
    "# import sys\n",
    "# sys.path.append('../src/')\n",
    "\n",
    "from preprocessing_node import *"
   ]
  },
  {
   "cell_type": "code",
   "execution_count": 5,
   "metadata": {},
   "outputs": [
    {
     "name": "stdout",
     "output_type": "stream",
     "text": [
      "     city  year  weekofyear week_start_date   ndvi_ne   ndvi_nw   ndvi_se  \\\n",
      "1451   iq  2010          21      2010-05-28  0.342750  0.318900  0.256343   \n",
      "1452   iq  2010          22      2010-06-04  0.160157  0.160371  0.136043   \n",
      "1453   iq  2010          23      2010-06-11  0.247057  0.146057  0.250357   \n",
      "1454   iq  2010          24      2010-06-18  0.333914  0.245771  0.278886   \n",
      "1455   iq  2010          25      2010-06-25  0.298186  0.232971  0.274214   \n",
      "\n",
      "       ndvi_sw  precipitation_amt_mm  reanalysis_air_temp_k  ...  \\\n",
      "1451  0.292514                 55.30             299.334286  ...   \n",
      "1452  0.225657                 86.47             298.330000  ...   \n",
      "1453  0.233714                 58.94             296.598571  ...   \n",
      "1454  0.325486                 59.67             296.345714  ...   \n",
      "1455  0.315757                 63.22             298.097143  ...   \n",
      "\n",
      "      reanalysis_precip_amt_kg_per_m2  reanalysis_relative_humidity_percent  \\\n",
      "1451                            45.00                             88.765714   \n",
      "1452                           207.10                             91.600000   \n",
      "1453                            50.60                             94.280000   \n",
      "1454                            62.33                             94.660000   \n",
      "1455                            36.90                             89.082857   \n",
      "\n",
      "      reanalysis_sat_precip_amt_mm  reanalysis_specific_humidity_g_per_kg  \\\n",
      "1451                         55.30                              18.485714   \n",
      "1452                         86.47                              18.070000   \n",
      "1453                         58.94                              17.008571   \n",
      "1454                         59.67                              16.815714   \n",
      "1455                         63.22                              17.355714   \n",
      "\n",
      "      reanalysis_tdtr_k  station_avg_temp_c  station_diur_temp_rng_c  \\\n",
      "1451           9.800000           28.633333                11.933333   \n",
      "1452           7.471429           27.433333                10.500000   \n",
      "1453           7.500000           24.400000                 6.900000   \n",
      "1454           7.871429           25.433333                 8.733333   \n",
      "1455          11.014286           27.475000                 9.900000   \n",
      "\n",
      "      station_max_temp_c  station_min_temp_c  station_precip_mm  \n",
      "1451                35.4                22.4               27.0  \n",
      "1452                34.7                21.7               36.6  \n",
      "1453                32.2                19.2                7.4  \n",
      "1454                31.2                21.0               16.0  \n",
      "1455                33.7                22.2               20.4  \n",
      "\n",
      "[5 rows x 24 columns]\n",
      "df.shape: (1456, 24)\n"
     ]
    },
    {
     "name": "stderr",
     "output_type": "stream",
     "text": [
      "/home/hrbjoern/Karriere/2024_CodingSchools/2024_DSR/Dengue-fever-prediction/notebooks/preprocessing_node.py:63: FutureWarning: DataFrame.fillna with 'method' is deprecated and will raise in a future version. Use obj.ffill() or obj.bfill() instead.\n",
      "  df.fillna(method='ffill', inplace=True)\n"
     ]
    }
   ],
   "source": [
    "#data = pd.read_csv('../data/01_raw/dengue_features_train.csv',\n",
    "#                             index_col=[0,1,2])\n",
    "\n",
    "data = pd.read_csv('../data/01_raw/dengue_features_train.csv',)\n",
    "\n",
    "print(data.tail())\n",
    "# ps(data) \n",
    "\n",
    "# # print(data['city'].head())\n",
    "# print(pd.get_dummies(data=data, columns=['city']).shape)\n",
    "\n",
    "# data = encode(data)\n",
    "# ps(data)\n",
    "\n",
    "# data = impute(data)\n",
    "\n",
    "# # ps(data)\n",
    "\n",
    "# data = changeDate(data)    \n",
    "\n",
    "# ps(data)\n",
    "\n",
    "# data.head()\n",
    "\n",
    "data = preprocessing(data)\n",
    "\n",
    "ps(data)\n",
    "\n",
    "#print(data[])"
   ]
  }
 ],
 "metadata": {
  "kernelspec": {
   "display_name": "minicomp",
   "language": "python",
   "name": "python3"
  },
  "language_info": {
   "codemirror_mode": {
    "name": "ipython",
    "version": 3
   },
   "file_extension": ".py",
   "mimetype": "text/x-python",
   "name": "python",
   "nbconvert_exporter": "python",
   "pygments_lexer": "ipython3",
   "version": "3.12.4"
  }
 },
 "nbformat": 4,
 "nbformat_minor": 2
}
