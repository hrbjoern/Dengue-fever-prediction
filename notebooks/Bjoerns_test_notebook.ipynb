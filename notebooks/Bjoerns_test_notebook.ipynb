{
 "cells": [
  {
   "cell_type": "markdown",
   "metadata": {},
   "source": [
    "# Bjoerns Test-Notebook!"
   ]
  },
  {
   "cell_type": "code",
   "execution_count": 1,
   "metadata": {},
   "outputs": [],
   "source": [
    "# from __future__ import print_function\n",
    "# from __future__ import division\n",
    "\n",
    "import pandas as pd\n",
    "import numpy as np\n",
    "\n",
    "# from matplotlib import pyplot as plt\n",
    "# import seaborn as sns\n",
    "\n",
    "# from sklearn.model_selection import train_test_split\n",
    "# import statsmodels.api as sm\n",
    "\n",
    "# # TODO: Import my own functions/node?\n",
    "# import sys\n",
    "# sys.path.append('../src/')\n",
    "\n",
    "from preprocessing_node import *"
   ]
  },
  {
   "cell_type": "code",
   "execution_count": 3,
   "metadata": {},
   "outputs": [
    {
     "name": "stdout",
     "output_type": "stream",
     "text": [
      "df.shape: (1872, 27)\n",
      "     city  year  weekofyear  total_cases\n",
      "1456   sj  2008          18          4.0\n",
      "1457   sj  2008          19          4.0\n",
      "1458   sj  2008          20          4.0\n",
      "1459   sj  2008          21          4.0\n",
      "1460   sj  2008          22          4.0\n"
     ]
    },
    {
     "name": "stderr",
     "output_type": "stream",
     "text": [
      "/home/hrbjoern/Karriere/2024_CodingSchools/2024_DSR/Dengue-fever-prediction/notebooks/preprocessing_node.py:61: FutureWarning: DataFrame.fillna with 'method' is deprecated and will raise in a future version. Use obj.ffill() or obj.bfill() instead.\n",
      "  df.fillna(method='ffill', inplace=True)\n"
     ]
    }
   ],
   "source": [
    "#data = pd.read_csv('../data/01_raw/dengue_features_train.csv',\n",
    "#                             index_col=[0,1,2])\n",
    "#data = pd.read_csv('../data/01_raw/dengue_features_train.csv',)\n",
    "\n",
    "data = pd.read_csv('dataset_type.csv',)\n",
    "\n",
    "# print(data.tail())\n",
    "# ps(data) \n",
    "\n",
    "\n",
    "data = preprocessing(data)\n",
    "\n",
    "ps(data)\n",
    "# Result from dengue_features_train.csv: df.shape: (1456, 24)\n",
    "\n",
    "# First result from dataset_type.csv: df.shape: (1872, 26)\n",
    "# Second result from dataset_type.csv: df.shape: (1872, 27) -> \"type\" column encoded\n",
    "# \n",
    "\n",
    "#print(data.head())\n",
    "\n",
    "data['type_train'].dtypes\n",
    "\n",
    "#data.describe()\n",
    "\n",
    "#print(data['type_test'], data['total_cases'])\n",
    "\n",
    "#print(data.loc[:, 'type_test'])\n",
    "\n",
    "#data.total_cases.plot()\n",
    "\n",
    "data.dtypes\n",
    "\n",
    "\n",
    "output = prepare_submission(data)\n",
    "#output.to_csv('testoutput.csv', index=False)  \n",
    "# works as expected"
   ]
  }
 ],
 "metadata": {
  "kernelspec": {
   "display_name": "minicomp",
   "language": "python",
   "name": "python3"
  },
  "language_info": {
   "codemirror_mode": {
    "name": "ipython",
    "version": 3
   },
   "file_extension": ".py",
   "mimetype": "text/x-python",
   "name": "python",
   "nbconvert_exporter": "python",
   "pygments_lexer": "ipython3",
   "version": "3.12.4"
  }
 },
 "nbformat": 4,
 "nbformat_minor": 2
}
