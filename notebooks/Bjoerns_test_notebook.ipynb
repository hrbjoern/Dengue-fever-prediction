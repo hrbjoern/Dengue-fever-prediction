{
 "cells": [
  {
   "cell_type": "markdown",
   "metadata": {},
   "source": [
    "# Bjoerns Test-Notebook!"
   ]
  },
  {
   "cell_type": "code",
   "execution_count": 2,
   "metadata": {},
   "outputs": [],
   "source": [
    "from __future__ import print_function\n",
    "from __future__ import division\n",
    "\n",
    "import pandas as pd\n",
    "import numpy as np\n",
    "\n",
    "from matplotlib import pyplot as plt\n",
    "import seaborn as sns\n",
    "\n",
    "from sklearn.model_selection import train_test_split\n",
    "import statsmodels.api as sm\n",
    "\n",
    "# TODO: Import my own functions/node?\n",
    "import sys\n",
    "sys.path.append('../src/')\n",
    "\n",
    "from preprocessing_node import *"
   ]
  },
  {
   "cell_type": "code",
   "execution_count": 7,
   "metadata": {},
   "outputs": [
    {
     "name": "stdout",
     "output_type": "stream",
     "text": [
      "data.shape: (1456, 24)\n"
     ]
    },
    {
     "ename": "TypeError",
     "evalue": "get_dummies() got an unexpected keyword argument 'axis'",
     "output_type": "error",
     "traceback": [
      "\u001b[0;31m---------------------------------------------------------------------------\u001b[0m",
      "\u001b[0;31mTypeError\u001b[0m                                 Traceback (most recent call last)",
      "Cell \u001b[0;32mIn[7], line 9\u001b[0m\n\u001b[1;32m      4\u001b[0m data \u001b[38;5;241m=\u001b[39m pd\u001b[38;5;241m.\u001b[39mread_csv(\u001b[38;5;124m'\u001b[39m\u001b[38;5;124m../data/01_raw/dengue_features_train.csv\u001b[39m\u001b[38;5;124m'\u001b[39m,)\n\u001b[1;32m      6\u001b[0m ps(data) \n\u001b[0;32m----> 9\u001b[0m data2 \u001b[38;5;241m=\u001b[39m \u001b[43mpd\u001b[49m\u001b[38;5;241;43m.\u001b[39;49m\u001b[43mget_dummies\u001b[49m\u001b[43m(\u001b[49m\u001b[43mdata\u001b[49m\u001b[43m[\u001b[49m\u001b[38;5;124;43m'\u001b[39;49m\u001b[38;5;124;43mcity\u001b[39;49m\u001b[38;5;124;43m'\u001b[39;49m\u001b[43m]\u001b[49m\u001b[43m,\u001b[49m\u001b[43m \u001b[49m\u001b[43maxis\u001b[49m\u001b[38;5;241;43m=\u001b[39;49m\u001b[38;5;241;43m1\u001b[39;49m\u001b[43m)\u001b[49m\n\u001b[1;32m     11\u001b[0m ps(data)\n\u001b[1;32m     14\u001b[0m \u001b[38;5;66;03m# print(data['city'])\u001b[39;00m\n\u001b[1;32m     15\u001b[0m \u001b[38;5;66;03m# encode(data)\u001b[39;00m\n\u001b[1;32m     16\u001b[0m \n\u001b[0;32m   (...)\u001b[0m\n\u001b[1;32m     26\u001b[0m \n\u001b[1;32m     27\u001b[0m \u001b[38;5;66;03m# data.head()\u001b[39;00m\n",
      "\u001b[0;31mTypeError\u001b[0m: get_dummies() got an unexpected keyword argument 'axis'"
     ]
    }
   ],
   "source": [
    "#data = pd.read_csv('../data/01_raw/dengue_features_train.csv',\n",
    "#                             index_col=[0,1,2])\n",
    "\n",
    "data = pd.read_csv('../data/01_raw/dengue_features_train.csv',)\n",
    "\n",
    "ps(data) \n",
    "\n",
    "\n",
    "data2 = pd.get_dummies(data['city'])\n",
    "\n",
    "ps(data)\n",
    "\n",
    "\n",
    "# print(data['city'])\n",
    "# encode(data)\n",
    "\n",
    "# ps(data)\n",
    "\n",
    "# impute(data)\n",
    "\n",
    "# ps(data)\n",
    "\n",
    "# changeDate(data)    \n",
    "\n",
    "# ps(data)\n",
    "\n",
    "# data.head()"
   ]
  }
 ],
 "metadata": {
  "kernelspec": {
   "display_name": "minicomp",
   "language": "python",
   "name": "python3"
  },
  "language_info": {
   "codemirror_mode": {
    "name": "ipython",
    "version": 3
   },
   "file_extension": ".py",
   "mimetype": "text/x-python",
   "name": "python",
   "nbconvert_exporter": "python",
   "pygments_lexer": "ipython3",
   "version": "3.12.4"
  }
 },
 "nbformat": 4,
 "nbformat_minor": 2
}
